{
 "cells": [
  {
   "cell_type": "code",
   "execution_count": 1,
   "metadata": {},
   "outputs": [],
   "source": [
    "%run csvPlotTools.ipynb"
   ]
  },
  {
   "cell_type": "code",
   "execution_count": 2,
   "metadata": {},
   "outputs": [
    {
     "name": "stderr",
     "output_type": "stream",
     "text": [
      "C:\\Users\\mm2705\\AppData\\Local\\Temp\\ipykernel_25832\\3049011117.py:371: DtypeWarning: Columns (56) have mixed types. Specify dtype option on import or set low_memory=False.\n",
      "  df = pd.read_csv(input_csv)\n"
     ]
    },
    {
     "name": "stdout",
     "output_type": "stream",
     "text": [
      "C:/Users/mm2705/Documents/Cambridge/Milto_SPSW/L1/Spain/forestTypesCsvs/bldec.csv\n",
      "C:/Users/mm2705/Documents/Cambridge/Milto_SPSW/L1/Spain/forestTypesCsvs/nleve.csv\n",
      "C:/Users/mm2705/Documents/Cambridge/Milto_SPSW/L1/Spain/forestTypesCsvs/bleve.csv\n",
      "C:/Users/mm2705/Documents/Cambridge/Milto_SPSW/L1/Spain/forestTypesCsvs/nan.csv\n",
      "C:/Users/mm2705/Documents/Cambridge/Milto_SPSW/L1/Spain/forestTypesCsvs/mixed.csv\n",
      "C:/Users/mm2705/Documents/Cambridge/Milto_SPSW/L1/Spain/forestTypesCsvs/nldec.csv\n",
      "files saved in  C:/Users/mm2705/Documents/Cambridge/Milto_SPSW/L1/Spain/forestTypesCsvs/\n"
     ]
    }
   ],
   "source": [
    "location = \"C:/Users/mm2705/Documents/Cambridge/Milto_SPSW/L1/Spain/\"\n",
    "input_csv = location + \"plot234_column.csv\"\n",
    "column_name =  \"fortype2\"\n",
    "outDir = location + \"forestTypesCsvs/\"\n",
    "\n",
    "group_rows_by_label(input_csv,column_name,outDir)"
   ]
  }
 ],
 "metadata": {
  "kernelspec": {
   "display_name": "Python 3",
   "language": "python",
   "name": "python3"
  },
  "language_info": {
   "codemirror_mode": {
    "name": "ipython",
    "version": 3
   },
   "file_extension": ".py",
   "mimetype": "text/x-python",
   "name": "python",
   "nbconvert_exporter": "python",
   "pygments_lexer": "ipython3",
   "version": "3.11.1"
  }
 },
 "nbformat": 4,
 "nbformat_minor": 2
}
